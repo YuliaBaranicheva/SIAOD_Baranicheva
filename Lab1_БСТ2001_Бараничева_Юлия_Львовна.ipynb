{
 "cells": [
  {
   "cell_type": "markdown",
   "id": "af7936ac",
   "metadata": {},
   "source": [
    "# Лабораторная работа №1\n",
    "## Выполнила студентка группы БСТ2001 Бараничева Юлия Львовна\n",
    "### Задание №1\n",
    "Начало знакомства и первый вывод Jupyter Notebook"
   ]
  },
  {
   "cell_type": "code",
   "execution_count": 1,
   "id": "c733d56a",
   "metadata": {
    "scrolled": false
   },
   "outputs": [
    {
     "name": "stdout",
     "output_type": "stream",
     "text": [
      "Hello, world!\n"
     ]
    }
   ],
   "source": [
    "print(\"Hello, world!\")"
   ]
  },
  {
   "cell_type": "markdown",
   "id": "57efe0df",
   "metadata": {},
   "source": [
    "### Задание №2\n",
    "Написать генератор случайных матриц(многомерных), который принимает\n",
    "опциональные параметры m, n, min_limit, max_limit, где m и n указывают размер матрицы, а min_lim и max_lim - минимальное и максимальное значение для генерируемого числа. По умолчанию при отсутствии параметров принимать следующие значения:\n",
    "m = 50\n",
    "n = 50\n",
    "min_limit = -250\n",
    "max_limit = 1000 + (номер своего варианта)=1003"
   ]
  },
  {
   "cell_type": "code",
   "execution_count": 2,
   "id": "c7a07853",
   "metadata": {
    "scrolled": true
   },
   "outputs": [
    {
     "name": "stdout",
     "output_type": "stream",
     "text": [
      "Введите кол-во строк: 4\n",
      "Введите кол-во столбцов: 4\n",
      "Введите минимальное значение генерируемого числа: 3\n",
      "Введите максимальное значение генерируемого числа: 6\n",
      "[6, 6, 4, 5]\n",
      "[3, 3, 5, 4]\n",
      "[6, 4, 5, 5]\n",
      "[4, 6, 6, 5]\n"
     ]
    }
   ],
   "source": [
    "import random\n",
    "n = int(input(\"Введите кол-во строк: \", ) or \"50\")\n",
    "m = int(input(\"Введите кол-во столбцов: \", ) or \"50\")\n",
    "min_limit = int(input(\"Введите минимальное значение генерируемого числа: \", ) or \"-250\")\n",
    "max_limit = int(input(\"Введите максимальное значение генерируемого числа: \", ) or \"1003\")\n",
    "while True:\n",
    "    if min_limit >= max_limit:\n",
    "        print(\"Ошибка! Минимальное значение превышает максимальное!\")\n",
    "        break\n",
    "    else:\n",
    "        matrix = [ [ random.randint(min_limit, max_limit) for j in range(m)] for i in range(n) ]\n",
    "        for num in range(n):\n",
    "            print(matrix[num])\n",
    "        break"
   ]
  },
  {
   "cell_type": "markdown",
   "id": "58d462f4",
   "metadata": {},
   "source": [
    "### Задание №3\n",
    "Реализовать методы сортировки строк числовой матрицы в соответствии с\n",
    "заданием. Оценить время работы каждого алгоритма сортировки и сравнить его со временем стандартной функции сортировки. Испытания проводить на сгенерированных матрицах."
   ]
  },
  {
   "cell_type": "code",
   "execution_count": 9,
   "id": "84781606",
   "metadata": {
    "scrolled": true
   },
   "outputs": [
    {
     "name": "stdout",
     "output_type": "stream",
     "text": [
      "[4, 5, 6, 6]\n",
      "[3, 3, 4, 5]\n",
      "[4, 5, 5, 6]\n",
      "[4, 5, 6, 6]\n",
      "0.980377197265625 миллисекунд\n"
     ]
    }
   ],
   "source": [
    "#Сортировка выбором\n",
    "import time\n",
    "start_time = time.time()\n",
    "def selection_sort(matrix):\n",
    "    arr=matrix.copy()\n",
    "    for i in range(len(arr)-1):\n",
    "        m = i\n",
    "        j = i + 1\n",
    "        while j < len(arr):\n",
    "            if arr[j] < arr[m]:\n",
    "                m = j\n",
    "            j = j + 1\n",
    "        arr[i], arr[m] = arr[m], arr[i]\n",
    "    return(arr)\n",
    "for num in range(n):\n",
    "    print(selection_sort(matrix[num]))\n",
    "print(f\"{(time.time() - start_time)*1000} миллисекунд\")"
   ]
  },
  {
   "cell_type": "code",
   "execution_count": 10,
   "id": "70791f7a",
   "metadata": {},
   "outputs": [
    {
     "name": "stdout",
     "output_type": "stream",
     "text": [
      "[4, 5, 6, 6]\n",
      "[3, 3, 4, 5]\n",
      "[4, 5, 5, 6]\n",
      "[4, 5, 6, 6]\n",
      "0.9975433349609375 миллисекунд\n"
     ]
    }
   ],
   "source": [
    "#Сортировка вставкой\n",
    "import time\n",
    "start_time = time.time()\n",
    "def insertion_sort(matrix):\n",
    "    arr=matrix.copy()\n",
    "    for i in range(1, len(matrix)):\n",
    "        temp = arr[i]\n",
    "        j = i - 1\n",
    "        while (j >= 0 and temp < arr [j]):\n",
    "            arr[j+1] = arr[j]\n",
    "            j=j-1\n",
    "        arr[j+1] = temp\n",
    "    return (arr)\n",
    "for num in range(n):\n",
    "    print(insertion_sort(matrix[num]))\n",
    "print(f\"{(time.time() - start_time)*1000} миллисекунд\")"
   ]
  },
  {
   "cell_type": "code",
   "execution_count": 11,
   "id": "7e5645b1",
   "metadata": {},
   "outputs": [
    {
     "name": "stdout",
     "output_type": "stream",
     "text": [
      "[4, 5, 6, 6]\n",
      "[3, 3, 4, 5]\n",
      "[4, 5, 5, 6]\n",
      "[4, 5, 6, 6]\n",
      "0.9939670562744141 миллисекунд\n"
     ]
    }
   ],
   "source": [
    "#Сортировка обменом \n",
    "import time\n",
    "start_time = time.time()\n",
    "def bubble_sort(matrix):\n",
    "    arr=matrix.copy()\n",
    "    for i in range(len(arr)):\n",
    "        for j in range(len(arr)-i-1):\n",
    "            if arr[j] > arr[j+1]:\n",
    "                arr[j], arr[j+1] = arr[j+1], arr[j]\n",
    "    return(arr)\n",
    "for num in range(n):\n",
    "    print(bubble_sort(matrix[num]))\n",
    "print(f\"{(time.time() - start_time)*1000} миллисекунд\")"
   ]
  },
  {
   "cell_type": "code",
   "execution_count": 21,
   "id": "f12d08ba",
   "metadata": {},
   "outputs": [
    {
     "name": "stdout",
     "output_type": "stream",
     "text": [
      "[4, 5, 6, 6]\n",
      "[3, 3, 4, 5]\n",
      "[4, 5, 5, 6]\n",
      "[4, 5, 6, 6]\n",
      "0.9946823120117188 миллисекунд\n"
     ]
    }
   ],
   "source": [
    "#Сортировка Шелла\n",
    "import time\n",
    "start_time = time.time()\n",
    "def shell_sort(matrix):\n",
    "    arr=matrix.copy()\n",
    "    interval = len(arr)//2\n",
    "    while interval:\n",
    "        for i, el in enumerate(arr):\n",
    "            while i >= interval and arr[i - interval] > el:\n",
    "                arr[i] = arr[i - interval]\n",
    "                i -= interval\n",
    "                arr[i] = el\n",
    "        interval = 1 if interval == 2 else int(interval * 5.0 / 11)\n",
    "    return(arr)\n",
    "    \n",
    "for num in range(n):\n",
    "    print(shell_sort(matrix[num]))\n",
    "    \n",
    "print(f\"{(time.time() - start_time)*1000} миллисекунд\")"
   ]
  },
  {
   "cell_type": "code",
   "execution_count": 49,
   "id": "163abaaa",
   "metadata": {},
   "outputs": [
    {
     "name": "stdout",
     "output_type": "stream",
     "text": [
      "[4, 5, 6, 6]\n",
      "[3, 3, 4, 5]\n",
      "[4, 5, 5, 6]\n",
      "[4, 5, 6, 6]\n",
      "0.9973049163818359 миллисекунд\n"
     ]
    }
   ],
   "source": [
    "#Турнирная сортировка\n",
    "import time\n",
    "start_time = time.time()\n",
    "def tournament_sort(matrix):\n",
    "    arr = matrix.copy()\n",
    "    tree = [None] * 2 * (len(arr) + len(arr) % 2)\n",
    "    index = len(tree) - len(arr) - len(arr) % 2\n",
    "    \n",
    "    for i, v in enumerate(arr):\n",
    "        tree[index + i] = (i, v)\n",
    "    \n",
    "    for j in range(len(arr)):\n",
    "        n = len(arr)\n",
    "        index = len(tree) - len(arr) - len(arr) % 2\n",
    "        while index > -1:\n",
    "            n = (n + 1) // 2\n",
    "            for i in range(n):\n",
    "                i = max(index + i * 2, 1) \n",
    "                if tree[i] != None and tree[i + 1] != None:\n",
    "                    if tree[i][1] < tree[i + 1][1]:\n",
    "                        tree[i // 2] = tree[i]\n",
    "                    else:\n",
    "                        tree[i // 2] = tree[i + 1]\n",
    "                else:\n",
    "                    tree[i // 2] = tree[i] if tree[i] != None else tree[i + 1]\n",
    "            index -= n\n",
    "\n",
    "        index, x = tree[0]\n",
    "        arr[j] = x\n",
    "        tree[len(tree) - len(arr) - len(arr) % 2 + index] = None\n",
    "    return(arr)\n",
    "for num in range(n):\n",
    "    print(tournament_sort(matrix[num]))\n",
    "print(f\"{(time.time() - start_time)*1000} миллисекунд\")\n",
    "   "
   ]
  },
  {
   "cell_type": "code",
   "execution_count": 50,
   "id": "c7c8c1bf",
   "metadata": {},
   "outputs": [
    {
     "name": "stdout",
     "output_type": "stream",
     "text": [
      "[4, 5, 6, 6]\n",
      "[3, 3, 4, 5]\n",
      "[4, 5, 5, 6]\n",
      "[4, 5, 6, 6]\n",
      "0.9682178497314453 миллисекунд\n"
     ]
    }
   ],
   "source": [
    "import time\n",
    "start_time = time.time()\n",
    "def quick_sort(matrix):\n",
    "    arr = matrix.copy()\n",
    "    if len(arr) < 2:\n",
    "        return arr\n",
    "    low, same, high = [], [], []\n",
    "    pivot = arr[random.randint(0, len(arr) - 1)]\n",
    "    for item in arr:\n",
    "        if item < pivot:\n",
    "            low.append(item)\n",
    "        elif item == pivot:\n",
    "            same.append(item)\n",
    "        elif item > pivot:\n",
    "            high.append(item)\n",
    "    return quick_sort(low) + same + quick_sort(high)\n",
    "\n",
    "for num in range(n):\n",
    "    print(quick_sort(matrix[num]))\n",
    "print(f\"{(time.time() - start_time)*1000} миллисекунд\")"
   ]
  },
  {
   "cell_type": "code",
   "execution_count": 26,
   "id": "27e51c74",
   "metadata": {},
   "outputs": [
    {
     "name": "stdout",
     "output_type": "stream",
     "text": [
      "[4, 5, 6, 6]\n",
      "[3, 3, 4, 5]\n",
      "[4, 5, 5, 6]\n",
      "[4, 5, 6, 6]\n",
      "0.9973049163818359 миллисекунд\n"
     ]
    }
   ],
   "source": [
    "#пирамидальная сортировка\n",
    "import time\n",
    "start_time = time.time()\n",
    "def heapify(matrix, heapSize, rootIndex):\n",
    "    largest = rootIndex\n",
    "    leftChild = (2 * rootIndex) + 1\n",
    "    rightChild = (2 * rootIndex) + 2\n",
    "    if leftChild < heapSize and matrix[leftChild] > matrix[largest]:\n",
    "        largest = leftChild\n",
    "    if rightChild < heapSize and matrix[rightChild] > matrix[largest]:\n",
    "        largest = rightChild\n",
    "    if largest != rootIndex:\n",
    "        matrix[rootIndex], matrix[largest] = matrix[largest], matrix[rootIndex]\n",
    "        \n",
    "def heapSort(matrix):\n",
    "    arr = matrix.copy()\n",
    "    n = len(arr)\n",
    "    for i in range(n, -1, -1):\n",
    "        heapify(arr, n, i)\n",
    "    for i in range(n - 1, 0, -1):\n",
    "        arr[i], arr[0] = arr[0], arr[i]\n",
    "        heapify(arr, i, 0)\n",
    "    return(arr)\n",
    "\n",
    "for num in range(n):\n",
    "    print(heapSort(matrix[num]))\n",
    "\n",
    "print(f\"{(time.time() - start_time)*1000} миллисекунд\")"
   ]
  },
  {
   "cell_type": "code",
   "execution_count": 53,
   "id": "e5bb99c9",
   "metadata": {
    "scrolled": true
   },
   "outputs": [
    {
     "name": "stdout",
     "output_type": "stream",
     "text": [
      "[4, 5, 6, 6]\n",
      "[3, 3, 4, 5]\n",
      "[4, 5, 5, 6]\n",
      "[4, 5, 6, 6]\n",
      "1.0066032409667969 миллисекунд\n"
     ]
    }
   ],
   "source": [
    "import time\n",
    "start_time = time.time()\n",
    "def sorti(matrix):\n",
    "    arr = matrix.copy()\n",
    "    arr.sort()\n",
    "    return (arr)\n",
    "for num in range(n):\n",
    "    print(sorti(matrix[num]))\n",
    "print(f\"{(time.time() - start_time)*1000} миллисекунд\")"
   ]
  },
  {
   "cell_type": "markdown",
   "id": "fabdbe79",
   "metadata": {},
   "source": [
    "Таким образом, были реализованы генератор случайных матриц и методы сортировки строк числовой матрицы в соответсвии с заданием. Было оценено время работы каждого алгоритма сортировки. Выявлено, что стандартная функция сортировки по времени сравнима с остальными алгоритмами сортировки."
   ]
  }
 ],
 "metadata": {
  "kernelspec": {
   "display_name": "Python 3 (ipykernel)",
   "language": "python",
   "name": "python3"
  },
  "language_info": {
   "codemirror_mode": {
    "name": "ipython",
    "version": 3
   },
   "file_extension": ".py",
   "mimetype": "text/x-python",
   "name": "python",
   "nbconvert_exporter": "python",
   "pygments_lexer": "ipython3",
   "version": "3.9.7"
  }
 },
 "nbformat": 4,
 "nbformat_minor": 5
}
